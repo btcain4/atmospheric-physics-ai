{
 "cells": [
  {
   "cell_type": "markdown",
   "metadata": {},
   "source": [
    "# Preliminary Data Examination\n",
    "\n",
    "This notebook is dedicated towards having a first glance at the dataset. The purpose of this notebook is not to run data analysis or modeling tasks, but rather just to see what the data structure looks like to better inform future work for the project and develop a level of comfort with that the data looks like. \n",
    "\n",
    "The data is stored in parquet files, given the size of the data I utilize polars here to pull in a smaller chunk of the data and examine it. "
   ]
  }
 ],
 "metadata": {
  "language_info": {
   "name": "python"
  }
 },
 "nbformat": 4,
 "nbformat_minor": 2
}
