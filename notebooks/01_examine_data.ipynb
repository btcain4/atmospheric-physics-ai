{
 "cells": [
  {
   "cell_type": "markdown",
   "metadata": {},
   "source": [
    "# Preliminary Data Examination\n",
    "\n",
    "This notebook is dedicated towards having a first glance at the dataset. The purpose of this notebook is not to run data analysis or modeling tasks, but rather just to see what the data structure looks like to better inform/plan future work for the project and develop a level of comfort with that the data looks like. \n",
    "\n",
    "The data is stored in parquet files, given the size of the data I utilize polars here to pull in a smaller chunk (1000 rows) of the data and examine the data types and what observations look like. "
   ]
  },
  {
   "cell_type": "code",
   "execution_count": 5,
   "metadata": {},
   "outputs": [],
   "source": [
    "import sys\n",
    "import polars as pl\n",
    "\n",
    "sys.path.append('..')\n",
    "from leash_bio_ai.utils.conf import train_dir, test_dir, sample_submission_dir\n",
    "\n",
    "train_df = pl.read_parquet(source=train_dir, n_rows=1000)\n",
    "test_df = pl.read_parquet(source=test_dir, n_rows=1000)\n",
    "sample_sub_df = pl.read_csv(source=sample_submission_dir)"
   ]
  },
  {
   "cell_type": "markdown",
   "metadata": {},
   "source": [
    "#### Train and Test Set Structure"
   ]
  },
  {
   "cell_type": "code",
   "execution_count": 6,
   "metadata": {},
   "outputs": [
    {
     "data": {
      "text/html": [
       "<div><style>\n",
       ".dataframe > thead > tr,\n",
       ".dataframe > tbody > tr {\n",
       "  text-align: right;\n",
       "  white-space: pre-wrap;\n",
       "}\n",
       "</style>\n",
       "<small>shape: (10, 7)</small><table border=\"1\" class=\"dataframe\"><thead><tr><th>id</th><th>buildingblock1_smiles</th><th>buildingblock2_smiles</th><th>buildingblock3_smiles</th><th>molecule_smiles</th><th>protein_name</th><th>binds</th></tr><tr><td>i64</td><td>str</td><td>str</td><td>str</td><td>str</td><td>str</td><td>i64</td></tr></thead><tbody><tr><td>0</td><td>&quot;C#CC[C@@H](CC(=O)O)NC(=O)OCC1c…</td><td>&quot;C#CCOc1ccc(CN)cc1.Cl&quot;</td><td>&quot;Br.Br.NCC1CCCN1c1cccnn1&quot;</td><td>&quot;C#CCOc1ccc(CNc2nc(NCC3CCCN3c3c…</td><td>&quot;BRD4&quot;</td><td>0</td></tr><tr><td>1</td><td>&quot;C#CC[C@@H](CC(=O)O)NC(=O)OCC1c…</td><td>&quot;C#CCOc1ccc(CN)cc1.Cl&quot;</td><td>&quot;Br.Br.NCC1CCCN1c1cccnn1&quot;</td><td>&quot;C#CCOc1ccc(CNc2nc(NCC3CCCN3c3c…</td><td>&quot;HSA&quot;</td><td>0</td></tr><tr><td>2</td><td>&quot;C#CC[C@@H](CC(=O)O)NC(=O)OCC1c…</td><td>&quot;C#CCOc1ccc(CN)cc1.Cl&quot;</td><td>&quot;Br.Br.NCC1CCCN1c1cccnn1&quot;</td><td>&quot;C#CCOc1ccc(CNc2nc(NCC3CCCN3c3c…</td><td>&quot;sEH&quot;</td><td>0</td></tr><tr><td>3</td><td>&quot;C#CC[C@@H](CC(=O)O)NC(=O)OCC1c…</td><td>&quot;C#CCOc1ccc(CN)cc1.Cl&quot;</td><td>&quot;Br.NCc1cccc(Br)n1&quot;</td><td>&quot;C#CCOc1ccc(CNc2nc(NCc3cccc(Br)…</td><td>&quot;BRD4&quot;</td><td>0</td></tr><tr><td>4</td><td>&quot;C#CC[C@@H](CC(=O)O)NC(=O)OCC1c…</td><td>&quot;C#CCOc1ccc(CN)cc1.Cl&quot;</td><td>&quot;Br.NCc1cccc(Br)n1&quot;</td><td>&quot;C#CCOc1ccc(CNc2nc(NCc3cccc(Br)…</td><td>&quot;HSA&quot;</td><td>0</td></tr><tr><td>5</td><td>&quot;C#CC[C@@H](CC(=O)O)NC(=O)OCC1c…</td><td>&quot;C#CCOc1ccc(CN)cc1.Cl&quot;</td><td>&quot;Br.NCc1cccc(Br)n1&quot;</td><td>&quot;C#CCOc1ccc(CNc2nc(NCc3cccc(Br)…</td><td>&quot;sEH&quot;</td><td>0</td></tr><tr><td>6</td><td>&quot;C#CC[C@@H](CC(=O)O)NC(=O)OCC1c…</td><td>&quot;C#CCOc1ccc(CN)cc1.Cl&quot;</td><td>&quot;C#CCOc1ccc(CN)cc1.Cl&quot;</td><td>&quot;C#CCOc1ccc(CNc2nc(NCc3ccc(OCC#…</td><td>&quot;BRD4&quot;</td><td>0</td></tr><tr><td>7</td><td>&quot;C#CC[C@@H](CC(=O)O)NC(=O)OCC1c…</td><td>&quot;C#CCOc1ccc(CN)cc1.Cl&quot;</td><td>&quot;C#CCOc1ccc(CN)cc1.Cl&quot;</td><td>&quot;C#CCOc1ccc(CNc2nc(NCc3ccc(OCC#…</td><td>&quot;HSA&quot;</td><td>0</td></tr><tr><td>8</td><td>&quot;C#CC[C@@H](CC(=O)O)NC(=O)OCC1c…</td><td>&quot;C#CCOc1ccc(CN)cc1.Cl&quot;</td><td>&quot;C#CCOc1ccc(CN)cc1.Cl&quot;</td><td>&quot;C#CCOc1ccc(CNc2nc(NCc3ccc(OCC#…</td><td>&quot;sEH&quot;</td><td>0</td></tr><tr><td>9</td><td>&quot;C#CC[C@@H](CC(=O)O)NC(=O)OCC1c…</td><td>&quot;C#CCOc1ccc(CN)cc1.Cl&quot;</td><td>&quot;C=C(C)C(=O)NCCN.Cl&quot;</td><td>&quot;C#CCOc1ccc(CNc2nc(NCCNC(=O)C(=…</td><td>&quot;BRD4&quot;</td><td>0</td></tr></tbody></table></div>"
      ],
      "text/plain": [
       "shape: (10, 7)\n",
       "┌─────┬─────────────────┬─────────────────┬────────────────┬────────────────┬──────────────┬───────┐\n",
       "│ id  ┆ buildingblock1_ ┆ buildingblock2_ ┆ buildingblock3 ┆ molecule_smile ┆ protein_name ┆ binds │\n",
       "│ --- ┆ smiles          ┆ smiles          ┆ _smiles        ┆ s              ┆ ---          ┆ ---   │\n",
       "│ i64 ┆ ---             ┆ ---             ┆ ---            ┆ ---            ┆ str          ┆ i64   │\n",
       "│     ┆ str             ┆ str             ┆ str            ┆ str            ┆              ┆       │\n",
       "╞═════╪═════════════════╪═════════════════╪════════════════╪════════════════╪══════════════╪═══════╡\n",
       "│ 0   ┆ C#CC[C@@H](CC(= ┆ C#CCOc1ccc(CN)c ┆ Br.Br.NCC1CCCN ┆ C#CCOc1ccc(CNc ┆ BRD4         ┆ 0     │\n",
       "│     ┆ O)O)NC(=O)OCC1c ┆ c1.Cl           ┆ 1c1cccnn1      ┆ 2nc(NCC3CCCN3c ┆              ┆       │\n",
       "│     ┆ …               ┆                 ┆                ┆ 3c…            ┆              ┆       │\n",
       "│ 1   ┆ C#CC[C@@H](CC(= ┆ C#CCOc1ccc(CN)c ┆ Br.Br.NCC1CCCN ┆ C#CCOc1ccc(CNc ┆ HSA          ┆ 0     │\n",
       "│     ┆ O)O)NC(=O)OCC1c ┆ c1.Cl           ┆ 1c1cccnn1      ┆ 2nc(NCC3CCCN3c ┆              ┆       │\n",
       "│     ┆ …               ┆                 ┆                ┆ 3c…            ┆              ┆       │\n",
       "│ 2   ┆ C#CC[C@@H](CC(= ┆ C#CCOc1ccc(CN)c ┆ Br.Br.NCC1CCCN ┆ C#CCOc1ccc(CNc ┆ sEH          ┆ 0     │\n",
       "│     ┆ O)O)NC(=O)OCC1c ┆ c1.Cl           ┆ 1c1cccnn1      ┆ 2nc(NCC3CCCN3c ┆              ┆       │\n",
       "│     ┆ …               ┆                 ┆                ┆ 3c…            ┆              ┆       │\n",
       "│ 3   ┆ C#CC[C@@H](CC(= ┆ C#CCOc1ccc(CN)c ┆ Br.NCc1cccc(Br ┆ C#CCOc1ccc(CNc ┆ BRD4         ┆ 0     │\n",
       "│     ┆ O)O)NC(=O)OCC1c ┆ c1.Cl           ┆ )n1            ┆ 2nc(NCc3cccc(B ┆              ┆       │\n",
       "│     ┆ …               ┆                 ┆                ┆ r)…            ┆              ┆       │\n",
       "│ 4   ┆ C#CC[C@@H](CC(= ┆ C#CCOc1ccc(CN)c ┆ Br.NCc1cccc(Br ┆ C#CCOc1ccc(CNc ┆ HSA          ┆ 0     │\n",
       "│     ┆ O)O)NC(=O)OCC1c ┆ c1.Cl           ┆ )n1            ┆ 2nc(NCc3cccc(B ┆              ┆       │\n",
       "│     ┆ …               ┆                 ┆                ┆ r)…            ┆              ┆       │\n",
       "│ 5   ┆ C#CC[C@@H](CC(= ┆ C#CCOc1ccc(CN)c ┆ Br.NCc1cccc(Br ┆ C#CCOc1ccc(CNc ┆ sEH          ┆ 0     │\n",
       "│     ┆ O)O)NC(=O)OCC1c ┆ c1.Cl           ┆ )n1            ┆ 2nc(NCc3cccc(B ┆              ┆       │\n",
       "│     ┆ …               ┆                 ┆                ┆ r)…            ┆              ┆       │\n",
       "│ 6   ┆ C#CC[C@@H](CC(= ┆ C#CCOc1ccc(CN)c ┆ C#CCOc1ccc(CN) ┆ C#CCOc1ccc(CNc ┆ BRD4         ┆ 0     │\n",
       "│     ┆ O)O)NC(=O)OCC1c ┆ c1.Cl           ┆ cc1.Cl         ┆ 2nc(NCc3ccc(OC ┆              ┆       │\n",
       "│     ┆ …               ┆                 ┆                ┆ C#…            ┆              ┆       │\n",
       "│ 7   ┆ C#CC[C@@H](CC(= ┆ C#CCOc1ccc(CN)c ┆ C#CCOc1ccc(CN) ┆ C#CCOc1ccc(CNc ┆ HSA          ┆ 0     │\n",
       "│     ┆ O)O)NC(=O)OCC1c ┆ c1.Cl           ┆ cc1.Cl         ┆ 2nc(NCc3ccc(OC ┆              ┆       │\n",
       "│     ┆ …               ┆                 ┆                ┆ C#…            ┆              ┆       │\n",
       "│ 8   ┆ C#CC[C@@H](CC(= ┆ C#CCOc1ccc(CN)c ┆ C#CCOc1ccc(CN) ┆ C#CCOc1ccc(CNc ┆ sEH          ┆ 0     │\n",
       "│     ┆ O)O)NC(=O)OCC1c ┆ c1.Cl           ┆ cc1.Cl         ┆ 2nc(NCc3ccc(OC ┆              ┆       │\n",
       "│     ┆ …               ┆                 ┆                ┆ C#…            ┆              ┆       │\n",
       "│ 9   ┆ C#CC[C@@H](CC(= ┆ C#CCOc1ccc(CN)c ┆ C=C(C)C(=O)NCC ┆ C#CCOc1ccc(CNc ┆ BRD4         ┆ 0     │\n",
       "│     ┆ O)O)NC(=O)OCC1c ┆ c1.Cl           ┆ N.Cl           ┆ 2nc(NCCNC(=O)C ┆              ┆       │\n",
       "│     ┆ …               ┆                 ┆                ┆ (=…            ┆              ┆       │\n",
       "└─────┴─────────────────┴─────────────────┴────────────────┴────────────────┴──────────────┴───────┘"
      ]
     },
     "execution_count": 6,
     "metadata": {},
     "output_type": "execute_result"
    }
   ],
   "source": [
    "train_df.head(n=10)"
   ]
  },
  {
   "cell_type": "code",
   "execution_count": 7,
   "metadata": {},
   "outputs": [
    {
     "data": {
      "text/html": [
       "<div><style>\n",
       ".dataframe > thead > tr,\n",
       ".dataframe > tbody > tr {\n",
       "  text-align: right;\n",
       "  white-space: pre-wrap;\n",
       "}\n",
       "</style>\n",
       "<small>shape: (10, 6)</small><table border=\"1\" class=\"dataframe\"><thead><tr><th>id</th><th>buildingblock1_smiles</th><th>buildingblock2_smiles</th><th>buildingblock3_smiles</th><th>molecule_smiles</th><th>protein_name</th></tr><tr><td>i64</td><td>str</td><td>str</td><td>str</td><td>str</td><td>str</td></tr></thead><tbody><tr><td>295246830</td><td>&quot;C#CCCC[C@H](NC(=O)OCC1c2ccccc2…</td><td>&quot;C=Cc1ccc(N)cc1&quot;</td><td>&quot;C=Cc1ccc(N)cc1&quot;</td><td>&quot;C#CCCC[C@H](Nc1nc(Nc2ccc(C=C)c…</td><td>&quot;BRD4&quot;</td></tr><tr><td>295246831</td><td>&quot;C#CCCC[C@H](NC(=O)OCC1c2ccccc2…</td><td>&quot;C=Cc1ccc(N)cc1&quot;</td><td>&quot;C=Cc1ccc(N)cc1&quot;</td><td>&quot;C#CCCC[C@H](Nc1nc(Nc2ccc(C=C)c…</td><td>&quot;HSA&quot;</td></tr><tr><td>295246832</td><td>&quot;C#CCCC[C@H](NC(=O)OCC1c2ccccc2…</td><td>&quot;C=Cc1ccc(N)cc1&quot;</td><td>&quot;C=Cc1ccc(N)cc1&quot;</td><td>&quot;C#CCCC[C@H](Nc1nc(Nc2ccc(C=C)c…</td><td>&quot;sEH&quot;</td></tr><tr><td>295246833</td><td>&quot;C#CCCC[C@H](NC(=O)OCC1c2ccccc2…</td><td>&quot;C=Cc1ccc(N)cc1&quot;</td><td>&quot;CC(O)Cn1cnc2c(N)ncnc21&quot;</td><td>&quot;C#CCCC[C@H](Nc1nc(Nc2ccc(C=C)c…</td><td>&quot;BRD4&quot;</td></tr><tr><td>295246834</td><td>&quot;C#CCCC[C@H](NC(=O)OCC1c2ccccc2…</td><td>&quot;C=Cc1ccc(N)cc1&quot;</td><td>&quot;CC(O)Cn1cnc2c(N)ncnc21&quot;</td><td>&quot;C#CCCC[C@H](Nc1nc(Nc2ccc(C=C)c…</td><td>&quot;HSA&quot;</td></tr><tr><td>295246835</td><td>&quot;C#CCCC[C@H](NC(=O)OCC1c2ccccc2…</td><td>&quot;C=Cc1ccc(N)cc1&quot;</td><td>&quot;CC(O)Cn1cnc2c(N)ncnc21&quot;</td><td>&quot;C#CCCC[C@H](Nc1nc(Nc2ccc(C=C)c…</td><td>&quot;sEH&quot;</td></tr><tr><td>295246836</td><td>&quot;C#CCCC[C@H](NC(=O)OCC1c2ccccc2…</td><td>&quot;C=Cc1ccc(N)cc1&quot;</td><td>&quot;CC1(C)CCCC1(O)CN&quot;</td><td>&quot;C#CCCC[C@H](Nc1nc(NCC2(O)CCCC2…</td><td>&quot;BRD4&quot;</td></tr><tr><td>295246837</td><td>&quot;C#CCCC[C@H](NC(=O)OCC1c2ccccc2…</td><td>&quot;C=Cc1ccc(N)cc1&quot;</td><td>&quot;CC1(C)CCCC1(O)CN&quot;</td><td>&quot;C#CCCC[C@H](Nc1nc(NCC2(O)CCCC2…</td><td>&quot;HSA&quot;</td></tr><tr><td>295246838</td><td>&quot;C#CCCC[C@H](NC(=O)OCC1c2ccccc2…</td><td>&quot;C=Cc1ccc(N)cc1&quot;</td><td>&quot;CC1(C)CCCC1(O)CN&quot;</td><td>&quot;C#CCCC[C@H](Nc1nc(NCC2(O)CCCC2…</td><td>&quot;sEH&quot;</td></tr><tr><td>295246839</td><td>&quot;C#CCCC[C@H](NC(=O)OCC1c2ccccc2…</td><td>&quot;C=Cc1ccc(N)cc1&quot;</td><td>&quot;COC(=O)c1cc(Cl)sc1N&quot;</td><td>&quot;C#CCCC[C@H](Nc1nc(Nc2ccc(C=C)c…</td><td>&quot;BRD4&quot;</td></tr></tbody></table></div>"
      ],
      "text/plain": [
       "shape: (10, 6)\n",
       "┌───────────┬─────────────────┬─────────────────┬─────────────────┬─────────────────┬──────────────┐\n",
       "│ id        ┆ buildingblock1_ ┆ buildingblock2_ ┆ buildingblock3_ ┆ molecule_smiles ┆ protein_name │\n",
       "│ ---       ┆ smiles          ┆ smiles          ┆ smiles          ┆ ---             ┆ ---          │\n",
       "│ i64       ┆ ---             ┆ ---             ┆ ---             ┆ str             ┆ str          │\n",
       "│           ┆ str             ┆ str             ┆ str             ┆                 ┆              │\n",
       "╞═══════════╪═════════════════╪═════════════════╪═════════════════╪═════════════════╪══════════════╡\n",
       "│ 295246830 ┆ C#CCCC[C@H](NC( ┆ C=Cc1ccc(N)cc1  ┆ C=Cc1ccc(N)cc1  ┆ C#CCCC[C@H](Nc1 ┆ BRD4         │\n",
       "│           ┆ =O)OCC1c2ccccc2 ┆                 ┆                 ┆ nc(Nc2ccc(C=C)c ┆              │\n",
       "│           ┆ …               ┆                 ┆                 ┆ …               ┆              │\n",
       "│ 295246831 ┆ C#CCCC[C@H](NC( ┆ C=Cc1ccc(N)cc1  ┆ C=Cc1ccc(N)cc1  ┆ C#CCCC[C@H](Nc1 ┆ HSA          │\n",
       "│           ┆ =O)OCC1c2ccccc2 ┆                 ┆                 ┆ nc(Nc2ccc(C=C)c ┆              │\n",
       "│           ┆ …               ┆                 ┆                 ┆ …               ┆              │\n",
       "│ 295246832 ┆ C#CCCC[C@H](NC( ┆ C=Cc1ccc(N)cc1  ┆ C=Cc1ccc(N)cc1  ┆ C#CCCC[C@H](Nc1 ┆ sEH          │\n",
       "│           ┆ =O)OCC1c2ccccc2 ┆                 ┆                 ┆ nc(Nc2ccc(C=C)c ┆              │\n",
       "│           ┆ …               ┆                 ┆                 ┆ …               ┆              │\n",
       "│ 295246833 ┆ C#CCCC[C@H](NC( ┆ C=Cc1ccc(N)cc1  ┆ CC(O)Cn1cnc2c(N ┆ C#CCCC[C@H](Nc1 ┆ BRD4         │\n",
       "│           ┆ =O)OCC1c2ccccc2 ┆                 ┆ )ncnc21         ┆ nc(Nc2ccc(C=C)c ┆              │\n",
       "│           ┆ …               ┆                 ┆                 ┆ …               ┆              │\n",
       "│ 295246834 ┆ C#CCCC[C@H](NC( ┆ C=Cc1ccc(N)cc1  ┆ CC(O)Cn1cnc2c(N ┆ C#CCCC[C@H](Nc1 ┆ HSA          │\n",
       "│           ┆ =O)OCC1c2ccccc2 ┆                 ┆ )ncnc21         ┆ nc(Nc2ccc(C=C)c ┆              │\n",
       "│           ┆ …               ┆                 ┆                 ┆ …               ┆              │\n",
       "│ 295246835 ┆ C#CCCC[C@H](NC( ┆ C=Cc1ccc(N)cc1  ┆ CC(O)Cn1cnc2c(N ┆ C#CCCC[C@H](Nc1 ┆ sEH          │\n",
       "│           ┆ =O)OCC1c2ccccc2 ┆                 ┆ )ncnc21         ┆ nc(Nc2ccc(C=C)c ┆              │\n",
       "│           ┆ …               ┆                 ┆                 ┆ …               ┆              │\n",
       "│ 295246836 ┆ C#CCCC[C@H](NC( ┆ C=Cc1ccc(N)cc1  ┆ CC1(C)CCCC1(O)C ┆ C#CCCC[C@H](Nc1 ┆ BRD4         │\n",
       "│           ┆ =O)OCC1c2ccccc2 ┆                 ┆ N               ┆ nc(NCC2(O)CCCC2 ┆              │\n",
       "│           ┆ …               ┆                 ┆                 ┆ …               ┆              │\n",
       "│ 295246837 ┆ C#CCCC[C@H](NC( ┆ C=Cc1ccc(N)cc1  ┆ CC1(C)CCCC1(O)C ┆ C#CCCC[C@H](Nc1 ┆ HSA          │\n",
       "│           ┆ =O)OCC1c2ccccc2 ┆                 ┆ N               ┆ nc(NCC2(O)CCCC2 ┆              │\n",
       "│           ┆ …               ┆                 ┆                 ┆ …               ┆              │\n",
       "│ 295246838 ┆ C#CCCC[C@H](NC( ┆ C=Cc1ccc(N)cc1  ┆ CC1(C)CCCC1(O)C ┆ C#CCCC[C@H](Nc1 ┆ sEH          │\n",
       "│           ┆ =O)OCC1c2ccccc2 ┆                 ┆ N               ┆ nc(NCC2(O)CCCC2 ┆              │\n",
       "│           ┆ …               ┆                 ┆                 ┆ …               ┆              │\n",
       "│ 295246839 ┆ C#CCCC[C@H](NC( ┆ C=Cc1ccc(N)cc1  ┆ COC(=O)c1cc(Cl) ┆ C#CCCC[C@H](Nc1 ┆ BRD4         │\n",
       "│           ┆ =O)OCC1c2ccccc2 ┆                 ┆ sc1N            ┆ nc(Nc2ccc(C=C)c ┆              │\n",
       "│           ┆ …               ┆                 ┆                 ┆ …               ┆              │\n",
       "└───────────┴─────────────────┴─────────────────┴─────────────────┴─────────────────┴──────────────┘"
      ]
     },
     "execution_count": 7,
     "metadata": {},
     "output_type": "execute_result"
    }
   ],
   "source": [
    "test_df.head(n=10)"
   ]
  },
  {
   "cell_type": "markdown",
   "metadata": {},
   "source": [
    "The train and test datasets are primarily composed of string feature columns which are the SMILE representations of the building block molecules described [here](https://www.kaggle.com/competitions/leash-BELKA/overview). The train set includes a 64-bit signed integer type \"binds\" column, which is a binary indicating if the protein and molecule binded together. Additionally we appear to have an index column named \"id\" which is a 64-bit signed integer. \n",
    "\n",
    "A few things to consider to better deal with this larger-memory-dataset:\n",
    "* \"binds\" is a binary target variable, conversion to an 8-bit integer type rather than 64-bit will ease the memory burden, and 64-bit is unnecessary for binary variables.\n",
    "* The \"id\" column will get large in value when considering the whole dataset, so there is likely not opportunity here to switch to a less memory intensive data-type.\n",
    "* The feature columns are all string types, future work on these should consider how to represent them numerically with an array or with another translation using [RDKit](https://www.rdkit.org/docs/GettingStartedInPython.html).\n",
    "* The \"protein_name\" column has 3 distinct string values described [here](https://www.kaggle.com/competitions/leash-BELKA/data). There is likely a simpler integer encoding we can use to represent each protein_name as an 8-bit integer to be more memory efficient."
   ]
  },
  {
   "cell_type": "markdown",
   "metadata": {},
   "source": [
    "#### Sample Submission Structure"
   ]
  },
  {
   "cell_type": "code",
   "execution_count": 8,
   "metadata": {},
   "outputs": [
    {
     "data": {
      "text/html": [
       "<div><style>\n",
       ".dataframe > thead > tr,\n",
       ".dataframe > tbody > tr {\n",
       "  text-align: right;\n",
       "  white-space: pre-wrap;\n",
       "}\n",
       "</style>\n",
       "<small>shape: (10, 2)</small><table border=\"1\" class=\"dataframe\"><thead><tr><th>id</th><th>binds</th></tr><tr><td>i64</td><td>f64</td></tr></thead><tbody><tr><td>295246830</td><td>0.5</td></tr><tr><td>295246831</td><td>0.5</td></tr><tr><td>295246832</td><td>0.5</td></tr><tr><td>295246833</td><td>0.5</td></tr><tr><td>295246834</td><td>0.5</td></tr><tr><td>295246835</td><td>0.5</td></tr><tr><td>295246836</td><td>0.5</td></tr><tr><td>295246837</td><td>0.5</td></tr><tr><td>295246838</td><td>0.5</td></tr><tr><td>295246839</td><td>0.5</td></tr></tbody></table></div>"
      ],
      "text/plain": [
       "shape: (10, 2)\n",
       "┌───────────┬───────┐\n",
       "│ id        ┆ binds │\n",
       "│ ---       ┆ ---   │\n",
       "│ i64       ┆ f64   │\n",
       "╞═══════════╪═══════╡\n",
       "│ 295246830 ┆ 0.5   │\n",
       "│ 295246831 ┆ 0.5   │\n",
       "│ 295246832 ┆ 0.5   │\n",
       "│ 295246833 ┆ 0.5   │\n",
       "│ 295246834 ┆ 0.5   │\n",
       "│ 295246835 ┆ 0.5   │\n",
       "│ 295246836 ┆ 0.5   │\n",
       "│ 295246837 ┆ 0.5   │\n",
       "│ 295246838 ┆ 0.5   │\n",
       "│ 295246839 ┆ 0.5   │\n",
       "└───────────┴───────┘"
      ]
     },
     "execution_count": 8,
     "metadata": {},
     "output_type": "execute_result"
    }
   ],
   "source": [
    "sample_sub_df.head(n=10)"
   ]
  },
  {
   "cell_type": "markdown",
   "metadata": {},
   "source": [
    "The sample submission dataframe has indices (\"id\" column) corresponding to the test dataframe and additionally example predicted probabilities of the molecule and protein binding associated to each test set row. This is a simple layout for submissions and will be reproduced when model results are generated. "
   ]
  }
 ],
 "metadata": {
  "kernelspec": {
   "display_name": ".venv",
   "language": "python",
   "name": "python3"
  },
  "language_info": {
   "codemirror_mode": {
    "name": "ipython",
    "version": 3
   },
   "file_extension": ".py",
   "mimetype": "text/x-python",
   "name": "python",
   "nbconvert_exporter": "python",
   "pygments_lexer": "ipython3",
   "version": "3.12.0"
  }
 },
 "nbformat": 4,
 "nbformat_minor": 2
}
