{
 "cells": [
  {
   "cell_type": "markdown",
   "metadata": {},
   "source": [
    "# Polars Pipeline Class Test\n",
    "\n",
    "This notebook is dedicated towards testing the functionality of the PolarsPipeline abstract class defined in leash_bio_ai\\data\\polars. The purpose of this class is to provide a template and some setup like logging to other classes that will handle create polars data pipelines. "
   ]
  },
  {
   "cell_type": "code",
   "execution_count": 1,
   "metadata": {},
   "outputs": [],
   "source": [
    "import sys\n",
    "\n",
    "sys.path.append('..')\n",
    "from leash_bio_ai.data.polars import PolarsPipeline\n",
    "from leash_bio_ai.utils.conf import test_logger"
   ]
  },
  {
   "cell_type": "code",
   "execution_count": 6,
   "metadata": {},
   "outputs": [],
   "source": [
    "class TestPipeline(PolarsPipeline):\n",
    "    def __init__(self, logger_file):\n",
    "        super().__init__(logger_file)\n",
    "\n",
    "    def dataframe(self):\n",
    "        pass\n",
    "    def execute(self):\n",
    "        pass"
   ]
  },
  {
   "cell_type": "code",
   "execution_count": 7,
   "metadata": {},
   "outputs": [],
   "source": [
    "_test = TestPipeline(logger_file=test_logger)"
   ]
  },
  {
   "cell_type": "code",
   "execution_count": 8,
   "metadata": {},
   "outputs": [
    {
     "data": {
      "text/plain": [
       "'C:\\\\Users\\\\btcai\\\\OneDrive\\\\Documents\\\\GitHUb\\\\leash-bio-ai\\\\logs\\\\test_logger.txt'"
      ]
     },
     "execution_count": 8,
     "metadata": {},
     "output_type": "execute_result"
    }
   ],
   "source": [
    "_test.logger_file"
   ]
  }
 ],
 "metadata": {
  "kernelspec": {
   "display_name": ".venv",
   "language": "python",
   "name": "python3"
  },
  "language_info": {
   "codemirror_mode": {
    "name": "ipython",
    "version": 3
   },
   "file_extension": ".py",
   "mimetype": "text/x-python",
   "name": "python",
   "nbconvert_exporter": "python",
   "pygments_lexer": "ipython3",
   "version": "3.12.0"
  }
 },
 "nbformat": 4,
 "nbformat_minor": 2
}
