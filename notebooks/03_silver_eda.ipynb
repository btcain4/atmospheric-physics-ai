{
 "cells": [
  {
   "cell_type": "markdown",
   "metadata": {},
   "source": [
    "# Silver EDA\n",
    "\n",
    "This notebook is dedicated towards conducting EDA that will determine the steps necessary to transform the raw dataset into a silver state. Recall this project uses a psuedo [medallion](https://www.databricks.com/glossary/medallion-architecture) architecture where the silver layer data is transformed into a state ready for analysis/feature engineering. Check docs\\etl.drawio.svg for more details. "
   ]
  },
  {
   "cell_type": "code",
   "execution_count": 1,
   "metadata": {},
   "outputs": [],
   "source": [
    "import sys \n",
    "import polars as pl\n",
    "import numpy as np\n",
    "\n",
    "sys.path.append('..')\n",
    "from leash_bio_ai.utils.conf import train_dir\n",
    "\n",
    "train_df = pl.scan_parquet(source=train_dir)"
   ]
  },
  {
   "cell_type": "code",
   "execution_count": 2,
   "metadata": {},
   "outputs": [
    {
     "data": {
      "text/html": [
       "<div><style>\n",
       ".dataframe > thead > tr,\n",
       ".dataframe > tbody > tr {\n",
       "  text-align: right;\n",
       "  white-space: pre-wrap;\n",
       "}\n",
       "</style>\n",
       "<small>shape: (5, 7)</small><table border=\"1\" class=\"dataframe\"><thead><tr><th>id</th><th>buildingblock1_smiles</th><th>buildingblock2_smiles</th><th>buildingblock3_smiles</th><th>molecule_smiles</th><th>protein_name</th><th>binds</th></tr><tr><td>i64</td><td>str</td><td>str</td><td>str</td><td>str</td><td>str</td><td>i64</td></tr></thead><tbody><tr><td>0</td><td>&quot;C#CC[C@@H](CC(=O)O)NC(=O)OCC1c…</td><td>&quot;C#CCOc1ccc(CN)cc1.Cl&quot;</td><td>&quot;Br.Br.NCC1CCCN1c1cccnn1&quot;</td><td>&quot;C#CCOc1ccc(CNc2nc(NCC3CCCN3c3c…</td><td>&quot;BRD4&quot;</td><td>0</td></tr><tr><td>1</td><td>&quot;C#CC[C@@H](CC(=O)O)NC(=O)OCC1c…</td><td>&quot;C#CCOc1ccc(CN)cc1.Cl&quot;</td><td>&quot;Br.Br.NCC1CCCN1c1cccnn1&quot;</td><td>&quot;C#CCOc1ccc(CNc2nc(NCC3CCCN3c3c…</td><td>&quot;HSA&quot;</td><td>0</td></tr><tr><td>2</td><td>&quot;C#CC[C@@H](CC(=O)O)NC(=O)OCC1c…</td><td>&quot;C#CCOc1ccc(CN)cc1.Cl&quot;</td><td>&quot;Br.Br.NCC1CCCN1c1cccnn1&quot;</td><td>&quot;C#CCOc1ccc(CNc2nc(NCC3CCCN3c3c…</td><td>&quot;sEH&quot;</td><td>0</td></tr><tr><td>3</td><td>&quot;C#CC[C@@H](CC(=O)O)NC(=O)OCC1c…</td><td>&quot;C#CCOc1ccc(CN)cc1.Cl&quot;</td><td>&quot;Br.NCc1cccc(Br)n1&quot;</td><td>&quot;C#CCOc1ccc(CNc2nc(NCc3cccc(Br)…</td><td>&quot;BRD4&quot;</td><td>0</td></tr><tr><td>4</td><td>&quot;C#CC[C@@H](CC(=O)O)NC(=O)OCC1c…</td><td>&quot;C#CCOc1ccc(CN)cc1.Cl&quot;</td><td>&quot;Br.NCc1cccc(Br)n1&quot;</td><td>&quot;C#CCOc1ccc(CNc2nc(NCc3cccc(Br)…</td><td>&quot;HSA&quot;</td><td>0</td></tr></tbody></table></div>"
      ],
      "text/plain": [
       "shape: (5, 7)\n",
       "┌─────┬─────────────────┬─────────────────┬────────────────┬────────────────┬──────────────┬───────┐\n",
       "│ id  ┆ buildingblock1_ ┆ buildingblock2_ ┆ buildingblock3 ┆ molecule_smile ┆ protein_name ┆ binds │\n",
       "│ --- ┆ smiles          ┆ smiles          ┆ _smiles        ┆ s              ┆ ---          ┆ ---   │\n",
       "│ i64 ┆ ---             ┆ ---             ┆ ---            ┆ ---            ┆ str          ┆ i64   │\n",
       "│     ┆ str             ┆ str             ┆ str            ┆ str            ┆              ┆       │\n",
       "╞═════╪═════════════════╪═════════════════╪════════════════╪════════════════╪══════════════╪═══════╡\n",
       "│ 0   ┆ C#CC[C@@H](CC(= ┆ C#CCOc1ccc(CN)c ┆ Br.Br.NCC1CCCN ┆ C#CCOc1ccc(CNc ┆ BRD4         ┆ 0     │\n",
       "│     ┆ O)O)NC(=O)OCC1c ┆ c1.Cl           ┆ 1c1cccnn1      ┆ 2nc(NCC3CCCN3c ┆              ┆       │\n",
       "│     ┆ …               ┆                 ┆                ┆ 3c…            ┆              ┆       │\n",
       "│ 1   ┆ C#CC[C@@H](CC(= ┆ C#CCOc1ccc(CN)c ┆ Br.Br.NCC1CCCN ┆ C#CCOc1ccc(CNc ┆ HSA          ┆ 0     │\n",
       "│     ┆ O)O)NC(=O)OCC1c ┆ c1.Cl           ┆ 1c1cccnn1      ┆ 2nc(NCC3CCCN3c ┆              ┆       │\n",
       "│     ┆ …               ┆                 ┆                ┆ 3c…            ┆              ┆       │\n",
       "│ 2   ┆ C#CC[C@@H](CC(= ┆ C#CCOc1ccc(CN)c ┆ Br.Br.NCC1CCCN ┆ C#CCOc1ccc(CNc ┆ sEH          ┆ 0     │\n",
       "│     ┆ O)O)NC(=O)OCC1c ┆ c1.Cl           ┆ 1c1cccnn1      ┆ 2nc(NCC3CCCN3c ┆              ┆       │\n",
       "│     ┆ …               ┆                 ┆                ┆ 3c…            ┆              ┆       │\n",
       "│ 3   ┆ C#CC[C@@H](CC(= ┆ C#CCOc1ccc(CN)c ┆ Br.NCc1cccc(Br ┆ C#CCOc1ccc(CNc ┆ BRD4         ┆ 0     │\n",
       "│     ┆ O)O)NC(=O)OCC1c ┆ c1.Cl           ┆ )n1            ┆ 2nc(NCc3cccc(B ┆              ┆       │\n",
       "│     ┆ …               ┆                 ┆                ┆ r)…            ┆              ┆       │\n",
       "│ 4   ┆ C#CC[C@@H](CC(= ┆ C#CCOc1ccc(CN)c ┆ Br.NCc1cccc(Br ┆ C#CCOc1ccc(CNc ┆ HSA          ┆ 0     │\n",
       "│     ┆ O)O)NC(=O)OCC1c ┆ c1.Cl           ┆ )n1            ┆ 2nc(NCc3cccc(B ┆              ┆       │\n",
       "│     ┆ …               ┆                 ┆                ┆ r)…            ┆              ┆       │\n",
       "└─────┴─────────────────┴─────────────────┴────────────────┴────────────────┴──────────────┴───────┘"
      ]
     },
     "execution_count": 2,
     "metadata": {},
     "output_type": "execute_result"
    }
   ],
   "source": [
    "train_df.head(n=5).collect()"
   ]
  },
  {
   "cell_type": "markdown",
   "metadata": {},
   "source": [
    "### Dataset Size\n",
    "\n",
    "The primary obstacle of this project it dataset size given the utilization of local computing resources. Developing the silver layer of data will mainly involve dataset size reduction to enable analysis/feature engineering that will then lead into modeling efforts. Note the following opportunities for dataset size reduction:\n",
    "1. Class Imbalance - binds boolean column\n",
    "2. Column Value Duplication - molecule_smiles column encapsulates the same information that buildingblock1_smiles, buildingblock2_smiles, and buildingblock3_smiles have"
   ]
  },
  {
   "cell_type": "markdown",
   "metadata": {},
   "source": [
    "#### Class Imbalance and Molecule Smiles"
   ]
  },
  {
   "cell_type": "code",
   "execution_count": 3,
   "metadata": {},
   "outputs": [
    {
     "name": "stdout",
     "output_type": "stream",
     "text": [
      "Positive Protein Bonds Records: 1589906\n",
      "Negative Protein Bonds Records: 293656924\n",
      "Percent of Total Records that are Positive: 0.5414%\n"
     ]
    }
   ],
   "source": [
    "n_pos = (train_df\n",
    "         .filter(pl.col(\"binds\")==1)\n",
    "         .select(pl.count(\"id\"))\n",
    "         .collect(streaming=True)\n",
    "         .item())\n",
    "\n",
    "n_neg = (train_df\n",
    "         .filter(pl.col(\"binds\")==0)\n",
    "         .select(pl.count(\"id\"))\n",
    "         .collect(streaming=True)\n",
    "         .item())\n",
    "\n",
    "pct_pos = round(100 * n_pos/n_neg, 4)\n",
    "\n",
    "print(f\"Positive Protein Bonds Records: {n_pos}\")\n",
    "print(f\"Negative Protein Bonds Records: {n_neg}\")\n",
    "print(f\"Percent of Total Records that are Positive: {pct_pos}%\")"
   ]
  },
  {
   "cell_type": "markdown",
   "metadata": {},
   "source": [
    "Less than 1% of the training dataset belongs to the positive binds class, making this dataset highly imbalanced. When creating the silver layer downsampling can be performed to reduce dataset size and make analysis, feature engineering, and modeling more feasible on local compute with less data. \n",
    "\n",
    "Almost the entirety of important molecule information is contained in the \"molecule_smiles\" column. The more unique molecule smiles that appear for the negative class the more data we likely need to keep for any future model to generalize well to unseen data. Below we take the first 200,000 negative class rows in the train set and assess how many of the 200,000 observed molecule_smiles values are unique. A higher level of uniqueness will motivate the belief that uniqueness is common in the data and drive a decision to retain more negative class samples so a future model can see as many molecule_smiles as possible.  "
   ]
  },
  {
   "cell_type": "code",
   "execution_count": 4,
   "metadata": {},
   "outputs": [],
   "source": [
    "top_n = (train_df\n",
    "         .filter(pl.col(\"binds\")==0)\n",
    "         .select(\"molecule_smiles\")\n",
    "         .head(n=200000)\n",
    "         .collect(streaming=True)\n",
    "         .n_unique())"
   ]
  },
  {
   "cell_type": "code",
   "execution_count": 5,
   "metadata": {},
   "outputs": [
    {
     "name": "stdout",
     "output_type": "stream",
     "text": [
      "66814 of 200,000 molecule_smiles sampled are unique.\n"
     ]
    }
   ],
   "source": [
    "print(f\"{top_n} of 200,000 molecule_smiles sampled are unique.\")"
   ]
  },
  {
   "cell_type": "code",
   "execution_count": 2,
   "metadata": {},
   "outputs": [
    {
     "data": {
      "text/html": [
       "<div><style>\n",
       ".dataframe > thead > tr,\n",
       ".dataframe > tbody > tr {\n",
       "  text-align: right;\n",
       "  white-space: pre-wrap;\n",
       "}\n",
       "</style>\n",
       "<small>shape: (5, 8)</small><table border=\"1\" class=\"dataframe\"><thead><tr><th>id</th><th>buildingblock1_smiles</th><th>buildingblock2_smiles</th><th>buildingblock3_smiles</th><th>molecule_smiles</th><th>protein_name</th><th>binds</th><th>randn</th></tr><tr><td>i64</td><td>str</td><td>str</td><td>str</td><td>str</td><td>str</td><td>i64</td><td>f64</td></tr></thead><tbody><tr><td>0</td><td>&quot;C#CC[C@@H](CC(=O)O)NC(=O)OCC1c…</td><td>&quot;C#CCOc1ccc(CN)cc1.Cl&quot;</td><td>&quot;Br.Br.NCC1CCCN1c1cccnn1&quot;</td><td>&quot;C#CCOc1ccc(CNc2nc(NCC3CCCN3c3c…</td><td>&quot;BRD4&quot;</td><td>0</td><td>0.306955</td></tr><tr><td>1</td><td>&quot;C#CC[C@@H](CC(=O)O)NC(=O)OCC1c…</td><td>&quot;C#CCOc1ccc(CN)cc1.Cl&quot;</td><td>&quot;Br.Br.NCC1CCCN1c1cccnn1&quot;</td><td>&quot;C#CCOc1ccc(CNc2nc(NCC3CCCN3c3c…</td><td>&quot;HSA&quot;</td><td>0</td><td>0.602447</td></tr><tr><td>2</td><td>&quot;C#CC[C@@H](CC(=O)O)NC(=O)OCC1c…</td><td>&quot;C#CCOc1ccc(CN)cc1.Cl&quot;</td><td>&quot;Br.Br.NCC1CCCN1c1cccnn1&quot;</td><td>&quot;C#CCOc1ccc(CNc2nc(NCC3CCCN3c3c…</td><td>&quot;sEH&quot;</td><td>0</td><td>0.815065</td></tr><tr><td>3</td><td>&quot;C#CC[C@@H](CC(=O)O)NC(=O)OCC1c…</td><td>&quot;C#CCOc1ccc(CN)cc1.Cl&quot;</td><td>&quot;Br.NCc1cccc(Br)n1&quot;</td><td>&quot;C#CCOc1ccc(CNc2nc(NCc3cccc(Br)…</td><td>&quot;BRD4&quot;</td><td>0</td><td>0.057577</td></tr><tr><td>4</td><td>&quot;C#CC[C@@H](CC(=O)O)NC(=O)OCC1c…</td><td>&quot;C#CCOc1ccc(CN)cc1.Cl&quot;</td><td>&quot;Br.NCc1cccc(Br)n1&quot;</td><td>&quot;C#CCOc1ccc(CNc2nc(NCc3cccc(Br)…</td><td>&quot;HSA&quot;</td><td>0</td><td>0.857685</td></tr></tbody></table></div>"
      ],
      "text/plain": [
       "shape: (5, 8)\n",
       "┌─────┬──────────────┬──────────────┬──────────────┬──────────────┬─────────────┬───────┬──────────┐\n",
       "│ id  ┆ buildingbloc ┆ buildingbloc ┆ buildingbloc ┆ molecule_smi ┆ protein_nam ┆ binds ┆ randn    │\n",
       "│ --- ┆ k1_smiles    ┆ k2_smiles    ┆ k3_smiles    ┆ les          ┆ e           ┆ ---   ┆ ---      │\n",
       "│ i64 ┆ ---          ┆ ---          ┆ ---          ┆ ---          ┆ ---         ┆ i64   ┆ f64      │\n",
       "│     ┆ str          ┆ str          ┆ str          ┆ str          ┆ str         ┆       ┆          │\n",
       "╞═════╪══════════════╪══════════════╪══════════════╪══════════════╪═════════════╪═══════╪══════════╡\n",
       "│ 0   ┆ C#CC[C@@H](C ┆ C#CCOc1ccc(C ┆ Br.Br.NCC1CC ┆ C#CCOc1ccc(C ┆ BRD4        ┆ 0     ┆ 0.306955 │\n",
       "│     ┆ C(=O)O)NC(=O ┆ N)cc1.Cl     ┆ CN1c1cccnn1  ┆ Nc2nc(NCC3CC ┆             ┆       ┆          │\n",
       "│     ┆ )OCC1c…      ┆              ┆              ┆ CN3c3c…      ┆             ┆       ┆          │\n",
       "│ 1   ┆ C#CC[C@@H](C ┆ C#CCOc1ccc(C ┆ Br.Br.NCC1CC ┆ C#CCOc1ccc(C ┆ HSA         ┆ 0     ┆ 0.602447 │\n",
       "│     ┆ C(=O)O)NC(=O ┆ N)cc1.Cl     ┆ CN1c1cccnn1  ┆ Nc2nc(NCC3CC ┆             ┆       ┆          │\n",
       "│     ┆ )OCC1c…      ┆              ┆              ┆ CN3c3c…      ┆             ┆       ┆          │\n",
       "│ 2   ┆ C#CC[C@@H](C ┆ C#CCOc1ccc(C ┆ Br.Br.NCC1CC ┆ C#CCOc1ccc(C ┆ sEH         ┆ 0     ┆ 0.815065 │\n",
       "│     ┆ C(=O)O)NC(=O ┆ N)cc1.Cl     ┆ CN1c1cccnn1  ┆ Nc2nc(NCC3CC ┆             ┆       ┆          │\n",
       "│     ┆ )OCC1c…      ┆              ┆              ┆ CN3c3c…      ┆             ┆       ┆          │\n",
       "│ 3   ┆ C#CC[C@@H](C ┆ C#CCOc1ccc(C ┆ Br.NCc1cccc( ┆ C#CCOc1ccc(C ┆ BRD4        ┆ 0     ┆ 0.057577 │\n",
       "│     ┆ C(=O)O)NC(=O ┆ N)cc1.Cl     ┆ Br)n1        ┆ Nc2nc(NCc3cc ┆             ┆       ┆          │\n",
       "│     ┆ )OCC1c…      ┆              ┆              ┆ cc(Br)…      ┆             ┆       ┆          │\n",
       "│ 4   ┆ C#CC[C@@H](C ┆ C#CCOc1ccc(C ┆ Br.NCc1cccc( ┆ C#CCOc1ccc(C ┆ HSA         ┆ 0     ┆ 0.857685 │\n",
       "│     ┆ C(=O)O)NC(=O ┆ N)cc1.Cl     ┆ Br)n1        ┆ Nc2nc(NCc3cc ┆             ┆       ┆          │\n",
       "│     ┆ )OCC1c…      ┆              ┆              ┆ cc(Br)…      ┆             ┆       ┆          │\n",
       "└─────┴──────────────┴──────────────┴──────────────┴──────────────┴─────────────┴───────┴──────────┘"
      ]
     },
     "execution_count": 2,
     "metadata": {},
     "output_type": "execute_result"
    }
   ],
   "source": [
    "train_df.head(n=5).with_columns(pl.Series(name='randn', values=np.random.uniform(low=0, high=1, size=train_df.head(n=5).select(pl.len()).collect().item()))).collect()"
   ]
  }
 ],
 "metadata": {
  "kernelspec": {
   "display_name": ".venv",
   "language": "python",
   "name": "python3"
  },
  "language_info": {
   "codemirror_mode": {
    "name": "ipython",
    "version": 3
   },
   "file_extension": ".py",
   "mimetype": "text/x-python",
   "name": "python",
   "nbconvert_exporter": "python",
   "pygments_lexer": "ipython3",
   "version": "3.12.0"
  }
 },
 "nbformat": 4,
 "nbformat_minor": 2
}
